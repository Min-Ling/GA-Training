{
 "cells": [
  {
   "cell_type": "markdown",
   "id": "340baae3",
   "metadata": {},
   "source": [
    "# Part 1： Modelling"
   ]
  },
  {
   "cell_type": "code",
   "execution_count": 82,
   "id": "eacb78b1",
   "metadata": {},
   "outputs": [],
   "source": [
    "import requests\n",
    "import pandas as pd\n",
    "import numpy as np\n",
    "import random\n",
    "import matplotlib.pyplot as plt\n",
    "import seaborn as sns\n",
    "from sklearn.model_selection import train_test_split\n",
    "from sklearn.linear_model import LogisticRegression\n",
    "from sklearn.metrics import confusion_matrix\n",
    "from sklearn import metrics\n",
    "from sklearn.preprocessing import StandardScaler\n",
    "from sklearn.ensemble import RandomForestClassifier \n",
    "\n",
    "# Breast cancer header and data file links\n",
    "header_url = \"https://gist.githubusercontent.com/jeff-boykin/b5c536467c30d66ab97cd1f5c9a3497d/raw/5233c792af49c9b78f20c35d5cd729e1307a7df7/field_names.txt\"\n",
    "data_url = \"https://gist.githubusercontent.com/jeff-boykin/b5c536467c30d66ab97cd1f5c9a3497d/raw/5233c792af49c9b78f20c35d5cd729e1307a7df7/breast-cancer.csv\""
   ]
  },
  {
   "cell_type": "markdown",
   "id": "ede59c59",
   "metadata": {},
   "source": [
    "Retrieve header data"
   ]
  },
  {
   "cell_type": "code",
   "execution_count": 3,
   "id": "a440028c",
   "metadata": {},
   "outputs": [],
   "source": [
    "header_file = requests.get(header_url)\n",
    "header_file_data = header_file.text\n",
    "headers = header_file_data.split(\"\\n\")"
   ]
  },
  {
   "cell_type": "code",
   "execution_count": null,
   "id": "f36ac5b6",
   "metadata": {},
   "outputs": [],
   "source": [
    "headers"
   ]
  },
  {
   "cell_type": "markdown",
   "id": "6f24d0b1",
   "metadata": {},
   "source": [
    "Load data and attach headers"
   ]
  },
  {
   "cell_type": "code",
   "execution_count": 4,
   "id": "7ffe4b13",
   "metadata": {},
   "outputs": [],
   "source": [
    "df = pd.read_csv(data_url, header=None)\n",
    "df.columns = headers"
   ]
  },
  {
   "cell_type": "code",
   "execution_count": null,
   "id": "0a18cd3d",
   "metadata": {},
   "outputs": [],
   "source": [
    "df"
   ]
  },
  {
   "cell_type": "code",
   "execution_count": null,
   "id": "216a2289",
   "metadata": {
    "scrolled": false
   },
   "outputs": [],
   "source": [
    "df.isna().any()"
   ]
  },
  {
   "cell_type": "markdown",
   "id": "6bc24fba",
   "metadata": {},
   "source": [
    "**Compute mean and median smoothness and compactness for benign and malignant tumors**"
   ]
  },
  {
   "cell_type": "code",
   "execution_count": 5,
   "id": "87ab7183",
   "metadata": {},
   "outputs": [],
   "source": [
    "diagnosis_mean_median = df.groupby(['diagnosis']).agg({'smoothness_mean':['mean', 'median'],\n",
    "                                                       'compactness_mean':['mean', 'median']})"
   ]
  },
  {
   "cell_type": "code",
   "execution_count": null,
   "id": "4566411b",
   "metadata": {},
   "outputs": [],
   "source": [
    "diagnosis_mean_median"
   ]
  },
  {
   "cell_type": "markdown",
   "id": "0eac6ee5",
   "metadata": {},
   "source": [
    "**Generate bootstrap samples of data**"
   ]
  },
  {
   "cell_type": "code",
   "execution_count": 6,
   "id": "4574de8d",
   "metadata": {
    "collapsed": true
   },
   "outputs": [
    {
     "data": {
      "text/html": [
       "<div>\n",
       "<style scoped>\n",
       "    .dataframe tbody tr th:only-of-type {\n",
       "        vertical-align: middle;\n",
       "    }\n",
       "\n",
       "    .dataframe tbody tr th {\n",
       "        vertical-align: top;\n",
       "    }\n",
       "\n",
       "    .dataframe thead th {\n",
       "        text-align: right;\n",
       "    }\n",
       "</style>\n",
       "<table border=\"1\" class=\"dataframe\">\n",
       "  <thead>\n",
       "    <tr style=\"text-align: right;\">\n",
       "      <th></th>\n",
       "      <th>ID</th>\n",
       "      <th>diagnosis</th>\n",
       "      <th>radius_mean</th>\n",
       "      <th>radius_sd_error</th>\n",
       "      <th>radius_worst</th>\n",
       "      <th>texture_mean</th>\n",
       "      <th>texture_sd_error</th>\n",
       "      <th>texture_worst</th>\n",
       "      <th>perimeter_mean</th>\n",
       "      <th>perimeter_sd_error</th>\n",
       "      <th>...</th>\n",
       "      <th>concavity_worst</th>\n",
       "      <th>concave_points_mean</th>\n",
       "      <th>concave_points_sd_error</th>\n",
       "      <th>concave_points_worst</th>\n",
       "      <th>symmetry_mean</th>\n",
       "      <th>symmetry_sd_error</th>\n",
       "      <th>symmetry_worst</th>\n",
       "      <th>fractal_dimension_mean</th>\n",
       "      <th>fractal_dimension_sd_error</th>\n",
       "      <th>fractal_dimension_worst</th>\n",
       "    </tr>\n",
       "  </thead>\n",
       "  <tbody>\n",
       "    <tr>\n",
       "      <th>475</th>\n",
       "      <td>911654</td>\n",
       "      <td>B</td>\n",
       "      <td>14.20</td>\n",
       "      <td>20.53</td>\n",
       "      <td>92.41</td>\n",
       "      <td>618.4</td>\n",
       "      <td>0.08931</td>\n",
       "      <td>0.11080</td>\n",
       "      <td>0.05063</td>\n",
       "      <td>0.030580</td>\n",
       "      <td>...</td>\n",
       "      <td>16.45</td>\n",
       "      <td>27.26</td>\n",
       "      <td>112.10</td>\n",
       "      <td>828.5</td>\n",
       "      <td>0.11530</td>\n",
       "      <td>0.34290</td>\n",
       "      <td>0.25120</td>\n",
       "      <td>0.13390</td>\n",
       "      <td>0.2534</td>\n",
       "      <td>0.07858</td>\n",
       "    </tr>\n",
       "    <tr>\n",
       "      <th>36</th>\n",
       "      <td>854941</td>\n",
       "      <td>B</td>\n",
       "      <td>13.03</td>\n",
       "      <td>18.42</td>\n",
       "      <td>82.61</td>\n",
       "      <td>523.8</td>\n",
       "      <td>0.08983</td>\n",
       "      <td>0.03766</td>\n",
       "      <td>0.02562</td>\n",
       "      <td>0.029230</td>\n",
       "      <td>...</td>\n",
       "      <td>13.30</td>\n",
       "      <td>22.81</td>\n",
       "      <td>84.46</td>\n",
       "      <td>545.9</td>\n",
       "      <td>0.09701</td>\n",
       "      <td>0.04619</td>\n",
       "      <td>0.04833</td>\n",
       "      <td>0.05013</td>\n",
       "      <td>0.1987</td>\n",
       "      <td>0.06169</td>\n",
       "    </tr>\n",
       "    <tr>\n",
       "      <th>29</th>\n",
       "      <td>853401</td>\n",
       "      <td>M</td>\n",
       "      <td>18.63</td>\n",
       "      <td>25.11</td>\n",
       "      <td>124.80</td>\n",
       "      <td>1088.0</td>\n",
       "      <td>0.10640</td>\n",
       "      <td>0.18870</td>\n",
       "      <td>0.23190</td>\n",
       "      <td>0.124400</td>\n",
       "      <td>...</td>\n",
       "      <td>23.15</td>\n",
       "      <td>34.01</td>\n",
       "      <td>160.50</td>\n",
       "      <td>1670.0</td>\n",
       "      <td>0.14910</td>\n",
       "      <td>0.42570</td>\n",
       "      <td>0.61330</td>\n",
       "      <td>0.18480</td>\n",
       "      <td>0.3444</td>\n",
       "      <td>0.09782</td>\n",
       "    </tr>\n",
       "    <tr>\n",
       "      <th>140</th>\n",
       "      <td>869104</td>\n",
       "      <td>M</td>\n",
       "      <td>16.11</td>\n",
       "      <td>18.05</td>\n",
       "      <td>105.10</td>\n",
       "      <td>813.0</td>\n",
       "      <td>0.09721</td>\n",
       "      <td>0.11370</td>\n",
       "      <td>0.09447</td>\n",
       "      <td>0.059430</td>\n",
       "      <td>...</td>\n",
       "      <td>19.92</td>\n",
       "      <td>25.27</td>\n",
       "      <td>129.00</td>\n",
       "      <td>1233.0</td>\n",
       "      <td>0.13140</td>\n",
       "      <td>0.22360</td>\n",
       "      <td>0.28020</td>\n",
       "      <td>0.12160</td>\n",
       "      <td>0.2792</td>\n",
       "      <td>0.08158</td>\n",
       "    </tr>\n",
       "    <tr>\n",
       "      <th>488</th>\n",
       "      <td>913535</td>\n",
       "      <td>M</td>\n",
       "      <td>16.69</td>\n",
       "      <td>20.20</td>\n",
       "      <td>107.10</td>\n",
       "      <td>857.6</td>\n",
       "      <td>0.07497</td>\n",
       "      <td>0.07112</td>\n",
       "      <td>0.03649</td>\n",
       "      <td>0.023070</td>\n",
       "      <td>...</td>\n",
       "      <td>19.18</td>\n",
       "      <td>26.56</td>\n",
       "      <td>127.30</td>\n",
       "      <td>1084.0</td>\n",
       "      <td>0.10090</td>\n",
       "      <td>0.29200</td>\n",
       "      <td>0.24770</td>\n",
       "      <td>0.08737</td>\n",
       "      <td>0.4677</td>\n",
       "      <td>0.07623</td>\n",
       "    </tr>\n",
       "    <tr>\n",
       "      <th>37</th>\n",
       "      <td>855133</td>\n",
       "      <td>M</td>\n",
       "      <td>14.99</td>\n",
       "      <td>25.20</td>\n",
       "      <td>95.54</td>\n",
       "      <td>698.8</td>\n",
       "      <td>0.09387</td>\n",
       "      <td>0.05131</td>\n",
       "      <td>0.02398</td>\n",
       "      <td>0.028990</td>\n",
       "      <td>...</td>\n",
       "      <td>14.99</td>\n",
       "      <td>25.20</td>\n",
       "      <td>95.54</td>\n",
       "      <td>698.8</td>\n",
       "      <td>0.09387</td>\n",
       "      <td>0.05131</td>\n",
       "      <td>0.02398</td>\n",
       "      <td>0.02899</td>\n",
       "      <td>0.1565</td>\n",
       "      <td>0.05504</td>\n",
       "    </tr>\n",
       "    <tr>\n",
       "      <th>242</th>\n",
       "      <td>88411702</td>\n",
       "      <td>B</td>\n",
       "      <td>13.75</td>\n",
       "      <td>23.77</td>\n",
       "      <td>88.54</td>\n",
       "      <td>590.0</td>\n",
       "      <td>0.08043</td>\n",
       "      <td>0.06807</td>\n",
       "      <td>0.04697</td>\n",
       "      <td>0.023440</td>\n",
       "      <td>...</td>\n",
       "      <td>15.01</td>\n",
       "      <td>26.34</td>\n",
       "      <td>98.00</td>\n",
       "      <td>706.0</td>\n",
       "      <td>0.09368</td>\n",
       "      <td>0.14420</td>\n",
       "      <td>0.13590</td>\n",
       "      <td>0.06106</td>\n",
       "      <td>0.2663</td>\n",
       "      <td>0.06321</td>\n",
       "    </tr>\n",
       "    <tr>\n",
       "      <th>527</th>\n",
       "      <td>918192</td>\n",
       "      <td>B</td>\n",
       "      <td>13.94</td>\n",
       "      <td>13.17</td>\n",
       "      <td>90.31</td>\n",
       "      <td>594.2</td>\n",
       "      <td>0.12480</td>\n",
       "      <td>0.09755</td>\n",
       "      <td>0.10100</td>\n",
       "      <td>0.066150</td>\n",
       "      <td>...</td>\n",
       "      <td>14.62</td>\n",
       "      <td>15.38</td>\n",
       "      <td>94.52</td>\n",
       "      <td>653.3</td>\n",
       "      <td>0.13940</td>\n",
       "      <td>0.13640</td>\n",
       "      <td>0.15590</td>\n",
       "      <td>0.10150</td>\n",
       "      <td>0.2160</td>\n",
       "      <td>0.07253</td>\n",
       "    </tr>\n",
       "    <tr>\n",
       "      <th>545</th>\n",
       "      <td>922577</td>\n",
       "      <td>B</td>\n",
       "      <td>10.32</td>\n",
       "      <td>16.35</td>\n",
       "      <td>65.31</td>\n",
       "      <td>324.9</td>\n",
       "      <td>0.09434</td>\n",
       "      <td>0.04994</td>\n",
       "      <td>0.01012</td>\n",
       "      <td>0.005495</td>\n",
       "      <td>...</td>\n",
       "      <td>11.25</td>\n",
       "      <td>21.77</td>\n",
       "      <td>71.12</td>\n",
       "      <td>384.9</td>\n",
       "      <td>0.12850</td>\n",
       "      <td>0.08842</td>\n",
       "      <td>0.04384</td>\n",
       "      <td>0.02381</td>\n",
       "      <td>0.2681</td>\n",
       "      <td>0.07399</td>\n",
       "    </tr>\n",
       "    <tr>\n",
       "      <th>417</th>\n",
       "      <td>906024</td>\n",
       "      <td>B</td>\n",
       "      <td>12.70</td>\n",
       "      <td>12.17</td>\n",
       "      <td>80.88</td>\n",
       "      <td>495.0</td>\n",
       "      <td>0.08785</td>\n",
       "      <td>0.05794</td>\n",
       "      <td>0.02360</td>\n",
       "      <td>0.024020</td>\n",
       "      <td>...</td>\n",
       "      <td>13.65</td>\n",
       "      <td>16.92</td>\n",
       "      <td>88.12</td>\n",
       "      <td>566.9</td>\n",
       "      <td>0.13140</td>\n",
       "      <td>0.16070</td>\n",
       "      <td>0.09385</td>\n",
       "      <td>0.08224</td>\n",
       "      <td>0.2775</td>\n",
       "      <td>0.09464</td>\n",
       "    </tr>\n",
       "  </tbody>\n",
       "</table>\n",
       "<p>10 rows × 32 columns</p>\n",
       "</div>"
      ],
      "text/plain": [
       "           ID diagnosis  radius_mean  radius_sd_error  radius_worst  \\\n",
       "475    911654         B        14.20            20.53         92.41   \n",
       "36     854941         B        13.03            18.42         82.61   \n",
       "29     853401         M        18.63            25.11        124.80   \n",
       "140    869104         M        16.11            18.05        105.10   \n",
       "488    913535         M        16.69            20.20        107.10   \n",
       "37     855133         M        14.99            25.20         95.54   \n",
       "242  88411702         B        13.75            23.77         88.54   \n",
       "527    918192         B        13.94            13.17         90.31   \n",
       "545    922577         B        10.32            16.35         65.31   \n",
       "417    906024         B        12.70            12.17         80.88   \n",
       "\n",
       "     texture_mean  texture_sd_error  texture_worst  perimeter_mean  \\\n",
       "475         618.4           0.08931        0.11080         0.05063   \n",
       "36          523.8           0.08983        0.03766         0.02562   \n",
       "29         1088.0           0.10640        0.18870         0.23190   \n",
       "140         813.0           0.09721        0.11370         0.09447   \n",
       "488         857.6           0.07497        0.07112         0.03649   \n",
       "37          698.8           0.09387        0.05131         0.02398   \n",
       "242         590.0           0.08043        0.06807         0.04697   \n",
       "527         594.2           0.12480        0.09755         0.10100   \n",
       "545         324.9           0.09434        0.04994         0.01012   \n",
       "417         495.0           0.08785        0.05794         0.02360   \n",
       "\n",
       "     perimeter_sd_error  ...  concavity_worst  concave_points_mean  \\\n",
       "475            0.030580  ...            16.45                27.26   \n",
       "36             0.029230  ...            13.30                22.81   \n",
       "29             0.124400  ...            23.15                34.01   \n",
       "140            0.059430  ...            19.92                25.27   \n",
       "488            0.023070  ...            19.18                26.56   \n",
       "37             0.028990  ...            14.99                25.20   \n",
       "242            0.023440  ...            15.01                26.34   \n",
       "527            0.066150  ...            14.62                15.38   \n",
       "545            0.005495  ...            11.25                21.77   \n",
       "417            0.024020  ...            13.65                16.92   \n",
       "\n",
       "     concave_points_sd_error  concave_points_worst  symmetry_mean  \\\n",
       "475                   112.10                 828.5        0.11530   \n",
       "36                     84.46                 545.9        0.09701   \n",
       "29                    160.50                1670.0        0.14910   \n",
       "140                   129.00                1233.0        0.13140   \n",
       "488                   127.30                1084.0        0.10090   \n",
       "37                     95.54                 698.8        0.09387   \n",
       "242                    98.00                 706.0        0.09368   \n",
       "527                    94.52                 653.3        0.13940   \n",
       "545                    71.12                 384.9        0.12850   \n",
       "417                    88.12                 566.9        0.13140   \n",
       "\n",
       "     symmetry_sd_error  symmetry_worst  fractal_dimension_mean  \\\n",
       "475            0.34290         0.25120                 0.13390   \n",
       "36             0.04619         0.04833                 0.05013   \n",
       "29             0.42570         0.61330                 0.18480   \n",
       "140            0.22360         0.28020                 0.12160   \n",
       "488            0.29200         0.24770                 0.08737   \n",
       "37             0.05131         0.02398                 0.02899   \n",
       "242            0.14420         0.13590                 0.06106   \n",
       "527            0.13640         0.15590                 0.10150   \n",
       "545            0.08842         0.04384                 0.02381   \n",
       "417            0.16070         0.09385                 0.08224   \n",
       "\n",
       "     fractal_dimension_sd_error  fractal_dimension_worst  \n",
       "475                      0.2534                  0.07858  \n",
       "36                       0.1987                  0.06169  \n",
       "29                       0.3444                  0.09782  \n",
       "140                      0.2792                  0.08158  \n",
       "488                      0.4677                  0.07623  \n",
       "37                       0.1565                  0.05504  \n",
       "242                      0.2663                  0.06321  \n",
       "527                      0.2160                  0.07253  \n",
       "545                      0.2681                  0.07399  \n",
       "417                      0.2775                  0.09464  \n",
       "\n",
       "[10 rows x 32 columns]"
      ]
     },
     "execution_count": 6,
     "metadata": {},
     "output_type": "execute_result"
    }
   ],
   "source": [
    "def generateBootstrapSamples(df, size):\n",
    "    sample = df.sample(replace=True, n=size)\n",
    "    return sample"
   ]
  },
  {
   "cell_type": "code",
   "execution_count": null,
   "id": "9ad31590",
   "metadata": {},
   "outputs": [],
   "source": [
    "generateBootstrapSamples(df, 5)"
   ]
  },
  {
   "cell_type": "code",
   "execution_count": 7,
   "id": "2c96e221",
   "metadata": {},
   "outputs": [],
   "source": [
    "df.loc[df[\"diagnosis\"]=='M', \"tumor\"] = 1\n",
    "df.loc[df[\"diagnosis\"]=='B', \"tumor\"] = 0"
   ]
  },
  {
   "cell_type": "markdown",
   "id": "89386981",
   "metadata": {},
   "source": [
    "**Calculate correlations**"
   ]
  },
  {
   "cell_type": "code",
   "execution_count": 8,
   "id": "175f4c60",
   "metadata": {},
   "outputs": [],
   "source": [
    "breast_corr = df.loc[:, df.columns.difference(['ID', 'diagnosis'])]"
   ]
  },
  {
   "cell_type": "code",
   "execution_count": null,
   "id": "b4419fc2",
   "metadata": {},
   "outputs": [],
   "source": [
    "breast_corr"
   ]
  },
  {
   "cell_type": "code",
   "execution_count": 66,
   "id": "b5326d89",
   "metadata": {},
   "outputs": [],
   "source": [
    "breat_corr_sorted = breast_corr.corr(method='pearson')['tumor'].sort_values(ascending=False).head(10)"
   ]
  },
  {
   "cell_type": "code",
   "execution_count": 67,
   "id": "7ff847f4",
   "metadata": {},
   "outputs": [
    {
     "data": {
      "text/plain": [
       "tumor                      1.000000\n",
       "fractal_dimension_mean     0.793181\n",
       "concave_points_sd_error    0.782470\n",
       "perimeter_sd_error         0.776369\n",
       "concavity_worst            0.775725\n",
       "radius_worst               0.741887\n",
       "concave_points_worst       0.732925\n",
       "radius_mean                0.729376\n",
       "texture_mean               0.708389\n",
       "perimeter_mean             0.695648\n",
       "Name: tumor, dtype: float64"
      ]
     },
     "execution_count": 67,
     "metadata": {},
     "output_type": "execute_result"
    }
   ],
   "source": [
    "breat_corr_sorted"
   ]
  },
  {
   "cell_type": "markdown",
   "id": "e62b7b34",
   "metadata": {},
   "source": []
  },
  {
   "cell_type": "markdown",
   "id": "27f1e01b",
   "metadata": {},
   "source": [
    "Splitting dataset"
   ]
  },
  {
   "cell_type": "code",
   "execution_count": 91,
   "id": "ee82b90f",
   "metadata": {},
   "outputs": [],
   "source": [
    "X = breast_corr[[\"fractal_dimension_mean\", \"concave_points_sd_error\", \"perimeter_sd_error\"]]"
   ]
  },
  {
   "cell_type": "code",
   "execution_count": 92,
   "id": "068ba664",
   "metadata": {},
   "outputs": [],
   "source": [
    "Y = breast_corr[\"tumor\"]"
   ]
  },
  {
   "cell_type": "code",
   "execution_count": 93,
   "id": "7688efb2",
   "metadata": {},
   "outputs": [],
   "source": [
    "X_train, X_test, Y_train, Y_test = train_test_split(X, Y, test_size=0.25, random_state=0)"
   ]
  },
  {
   "cell_type": "markdown",
   "id": "a4c211ab",
   "metadata": {},
   "source": [
    "Feature Scaling"
   ]
  },
  {
   "cell_type": "code",
   "execution_count": 94,
   "id": "d0d5b2dd",
   "metadata": {},
   "outputs": [],
   "source": [
    "sc = StandardScaler()\n",
    "X_train = sc.fit_transform(X_train)\n",
    "X_test = sc.fit_transform(X_test)"
   ]
  },
  {
   "cell_type": "markdown",
   "id": "40989c8c",
   "metadata": {},
   "source": [
    "**Logistic Regression**"
   ]
  },
  {
   "cell_type": "code",
   "execution_count": 95,
   "id": "c20b5557",
   "metadata": {},
   "outputs": [
    {
     "data": {
      "text/plain": [
       "LogisticRegression(random_state=0)"
      ]
     },
     "execution_count": 95,
     "metadata": {},
     "output_type": "execute_result"
    }
   ],
   "source": [
    "logisticReg = LogisticRegression(random_state=0)\n",
    "logisticReg.fit(X_train, Y_train)"
   ]
  },
  {
   "cell_type": "code",
   "execution_count": 96,
   "id": "4708f5ae",
   "metadata": {},
   "outputs": [],
   "source": [
    "Y_pred = logisticReg.predict(X_test)"
   ]
  },
  {
   "cell_type": "code",
   "execution_count": 79,
   "id": "25c3ba6f",
   "metadata": {
    "collapsed": true
   },
   "outputs": [
    {
     "data": {
      "text/plain": [
       "array([0., 0., 0., 0., 0., 1., 0., 0., 0., 0., 0., 1., 0., 0., 0., 0., 0.,\n",
       "       0., 0., 0., 1., 0., 0., 1., 1., 0., 0., 1., 1., 0., 1., 1., 0., 1.,\n",
       "       1., 1., 0., 1., 1., 0., 0., 0., 1., 0., 0., 1., 0., 1., 0., 1., 0.,\n",
       "       0., 0., 0., 1., 0., 0., 0., 0., 0., 1., 0., 0., 0., 0., 0., 0., 0.,\n",
       "       0., 0., 0., 1., 1., 0., 0., 0., 0., 0., 1., 1., 1., 0., 1., 0., 0.,\n",
       "       1., 0., 1., 1., 1., 1., 0., 0., 1., 1., 0., 0., 0., 1., 0., 1., 1.,\n",
       "       0., 0., 0., 0., 0., 0., 1., 1., 0., 1., 1., 1., 1., 0., 0., 0., 1.,\n",
       "       0., 1., 0., 0., 0., 0., 0., 0., 1., 0., 0., 0., 1., 0., 0., 0., 0.,\n",
       "       0., 0., 1., 0., 0., 1.])"
      ]
     },
     "execution_count": 79,
     "metadata": {},
     "output_type": "execute_result"
    }
   ],
   "source": [
    "Y_pred"
   ]
  },
  {
   "cell_type": "code",
   "execution_count": 97,
   "id": "96f64bdf",
   "metadata": {},
   "outputs": [
    {
     "data": {
      "text/plain": [
       "array([[88,  4],\n",
       "       [ 7, 43]], dtype=int64)"
      ]
     },
     "execution_count": 97,
     "metadata": {},
     "output_type": "execute_result"
    }
   ],
   "source": [
    "cm = confusion_matrix(Y_test, Y_pred)\n",
    "cm"
   ]
  },
  {
   "cell_type": "code",
   "execution_count": 98,
   "id": "602f3bc8",
   "metadata": {},
   "outputs": [
    {
     "data": {
      "text/plain": [
       "0.9225352112676056"
      ]
     },
     "execution_count": 98,
     "metadata": {},
     "output_type": "execute_result"
    }
   ],
   "source": [
    "score = metrics.accuracy_score(Y_test, Y_pred)\n",
    "score"
   ]
  },
  {
   "cell_type": "markdown",
   "id": "67023f45",
   "metadata": {},
   "source": [
    "**Random Forest Classifier**"
   ]
  },
  {
   "cell_type": "code",
   "execution_count": 99,
   "id": "c43c52bb",
   "metadata": {},
   "outputs": [
    {
     "data": {
      "text/plain": [
       "RandomForestClassifier(criterion='entropy', n_estimators=10, random_state=0)"
      ]
     },
     "execution_count": 99,
     "metadata": {},
     "output_type": "execute_result"
    }
   ],
   "source": [
    "rfc = RandomForestClassifier(n_estimators=10, criterion=\"entropy\", random_state=0)\n",
    "rfc.fit(X_train, Y_train)"
   ]
  },
  {
   "cell_type": "code",
   "execution_count": 100,
   "id": "305b8449",
   "metadata": {},
   "outputs": [],
   "source": [
    "Y_pred = rfc.predict(X_test)"
   ]
  },
  {
   "cell_type": "code",
   "execution_count": 101,
   "id": "7bb8e62c",
   "metadata": {},
   "outputs": [
    {
     "data": {
      "text/plain": [
       "array([[88,  4],\n",
       "       [ 8, 42]], dtype=int64)"
      ]
     },
     "execution_count": 101,
     "metadata": {},
     "output_type": "execute_result"
    }
   ],
   "source": [
    "cm = confusion_matrix(Y_test, Y_pred)\n",
    "cm"
   ]
  },
  {
   "cell_type": "code",
   "execution_count": 102,
   "id": "677e9ea5",
   "metadata": {},
   "outputs": [
    {
     "data": {
      "text/plain": [
       "0.9154929577464789"
      ]
     },
     "execution_count": 102,
     "metadata": {},
     "output_type": "execute_result"
    }
   ],
   "source": [
    "score = metrics.accuracy_score(Y_test, Y_pred)\n",
    "score"
   ]
  },
  {
   "cell_type": "markdown",
   "id": "e8fbe681",
   "metadata": {},
   "source": [
    "### Advantages vs. Disadvantages \n",
    "\n",
    "**Logistic Regression**\n",
    "\n",
    "Advantages\n",
    "1. Simple to implement\n",
    "2. Effective\n",
    "\n",
    "Disadvantages\n",
    "1. Poor performance on non-linear data (eg: image data)\n",
    "2. Poor performance with irrelevant and highly correlated features\n",
    "\n",
    "\n",
    "**Random Forest Classifier**\n",
    "\n",
    "Advantages\n",
    "1. Able to handle huge amount of data with higher dimesionality of variables\n",
    "2. Reduced error. Takes inputs from all the trees and then predicts the outcome, which ensures that the individual errors of trees are minimized and overall variance and error is reduced\n",
    "\n",
    "Disadvantages\n",
    "1. Predictions of the trees need to be uncorrelated\n",
    "2. Features need to have some predictive power else they don't work "
   ]
  },
  {
   "cell_type": "markdown",
   "id": "87dd460e",
   "metadata": {},
   "source": [
    "\n",
    "\n",
    "\n",
    "# Part 2: Feedback"
   ]
  },
  {
   "cell_type": "markdown",
   "id": "425398e1",
   "metadata": {},
   "source": [
    "**Student Sample 1 (Before)**"
   ]
  },
  {
   "cell_type": "code",
   "execution_count": 104,
   "id": "534cd12a",
   "metadata": {
    "collapsed": true
   },
   "outputs": [
    {
     "ename": "ImportError",
     "evalue": "cannot import name 'LinearRegression' from 'sklearn' (C:\\Users\\yapmi\\anaconda3\\lib\\site-packages\\sklearn\\__init__.py)",
     "output_type": "error",
     "traceback": [
      "\u001b[1;31m---------------------------------------------------------------------------\u001b[0m",
      "\u001b[1;31mImportError\u001b[0m                               Traceback (most recent call last)",
      "\u001b[1;32m<ipython-input-104-d322dc25bc10>\u001b[0m in \u001b[0;36m<module>\u001b[1;34m\u001b[0m\n\u001b[0;32m      3\u001b[0m \u001b[1;32mimport\u001b[0m \u001b[0mpandas\u001b[0m \u001b[1;32mas\u001b[0m \u001b[0mpd\u001b[0m\u001b[1;33m\u001b[0m\u001b[1;33m\u001b[0m\u001b[0m\n\u001b[0;32m      4\u001b[0m \u001b[1;32mimport\u001b[0m \u001b[0mnumpy\u001b[0m \u001b[1;32mas\u001b[0m \u001b[0mnp\u001b[0m\u001b[1;33m\u001b[0m\u001b[1;33m\u001b[0m\u001b[0m\n\u001b[1;32m----> 5\u001b[1;33m \u001b[1;32mfrom\u001b[0m \u001b[0msklearn\u001b[0m \u001b[1;32mimport\u001b[0m \u001b[0mLinearRegression\u001b[0m\u001b[1;33m\u001b[0m\u001b[1;33m\u001b[0m\u001b[0m\n\u001b[0m\u001b[0;32m      6\u001b[0m \u001b[1;32mfrom\u001b[0m \u001b[0msklearn\u001b[0m\u001b[1;33m.\u001b[0m\u001b[0mcross_validation\u001b[0m \u001b[1;32mimport\u001b[0m \u001b[0mcross_val_score\u001b[0m\u001b[1;33m\u001b[0m\u001b[1;33m\u001b[0m\u001b[0m\n\u001b[0;32m      7\u001b[0m \u001b[1;33m\u001b[0m\u001b[0m\n",
      "\u001b[1;31mImportError\u001b[0m: cannot import name 'LinearRegression' from 'sklearn' (C:\\Users\\yapmi\\anaconda3\\lib\\site-packages\\sklearn\\__init__.py)"
     ]
    }
   ],
   "source": [
    "#!/usr/bin/env python\n",
    "\n",
    "import pandas as pd\n",
    "import numpy as np\n",
    "from sklearn import LinearRegression\n",
    "from sklearn.cross_validation import cross_val_score\n",
    "\n",
    "# Load data\n",
    "d = pd.read_csv('../data/train.csv')\n",
    "\n",
    "\n",
    "# Setup data for prediction\n",
    "x1 = data.SalaryNormalized\n",
    "x2 = pd.get_dummies(data.ContractType)\n",
    "\n",
    "# Setup model\n",
    "model = LinearRegression()\n",
    "\n",
    "# Evaluate model\n",
    "from sklearn.cross_validation import cross_val_score\n",
    "from sklearn.cross_validation import train_test_split\n",
    "scores = cross_val_score(model, x2, x1, cv=1, scoring='mean_absolute_error')\n",
    "print(scores.mean())"
   ]
  },
  {
   "cell_type": "markdown",
   "id": "5412dc81",
   "metadata": {},
   "source": [
    "Debug: LinearRegression import error"
   ]
  },
  {
   "cell_type": "code",
   "execution_count": null,
   "id": "5adcfb07",
   "metadata": {},
   "outputs": [],
   "source": [
    "from sklearn.linear_model import LinearRegression"
   ]
  },
  {
   "cell_type": "markdown",
   "id": "4caa470d",
   "metadata": {},
   "source": [
    "Debug: cross_val_score import error "
   ]
  },
  {
   "cell_type": "code",
   "execution_count": null,
   "id": "3de6c7bd",
   "metadata": {},
   "outputs": [],
   "source": [
    "from sklearn.model_selection import cross_val_score"
   ]
  },
  {
   "cell_type": "markdown",
   "id": "e30e689f",
   "metadata": {},
   "source": [
    "Debug: 'data' not defined"
   ]
  },
  {
   "cell_type": "code",
   "execution_count": null,
   "id": "92980c85",
   "metadata": {},
   "outputs": [],
   "source": [
    "data = pd.read_csv('../data/train.csv') # Rename 'd' to 'data'"
   ]
  },
  {
   "cell_type": "markdown",
   "id": "d9c798c2",
   "metadata": {},
   "source": [
    "Debug: train_test_split import error"
   ]
  },
  {
   "cell_type": "code",
   "execution_count": null,
   "id": "8d5b75d6",
   "metadata": {},
   "outputs": [],
   "source": [
    "from sklearn.model_selection import train_test_split"
   ]
  },
  {
   "cell_type": "markdown",
   "id": "2479137c",
   "metadata": {},
   "source": [
    "Debug: 'mean_absolute_error' is not a valid scoring value"
   ]
  },
  {
   "cell_type": "code",
   "execution_count": null,
   "id": "12d3a2bc",
   "metadata": {},
   "outputs": [],
   "source": [
    "import sklearn\n",
    "sklearn.metrics.SCORERS.keys()"
   ]
  },
  {
   "cell_type": "code",
   "execution_count": null,
   "id": "4fe2644c",
   "metadata": {},
   "outputs": [],
   "source": [
    "# Change to 'neg_mean_absolute_error'\n",
    "scores = cross_val_score(model, x2, x1, cv=1, scoring='neg_mean_absolute_error')"
   ]
  },
  {
   "cell_type": "markdown",
   "id": "c7773c4a",
   "metadata": {},
   "source": [
    "Debug: k-fold cross-validation requires at least one train/test split by setting n_splits=2 or more, got n_splits=1"
   ]
  },
  {
   "cell_type": "code",
   "execution_count": null,
   "id": "d70acb39",
   "metadata": {},
   "outputs": [],
   "source": [
    "# Change 'cv' value to 2\n",
    "scores = cross_val_score(model, x2, x1, cv=2, scoring='neg_mean_absolute_error')"
   ]
  },
  {
   "cell_type": "markdown",
   "id": "6f5e6fd5",
   "metadata": {},
   "source": [
    "**Student Sample 1 (After)**"
   ]
  },
  {
   "cell_type": "code",
   "execution_count": 118,
   "id": "ef63f367",
   "metadata": {},
   "outputs": [
    {
     "name": "stdout",
     "output_type": "stream",
     "text": [
      "-11733.827883047155\n"
     ]
    }
   ],
   "source": [
    "#!/usr/bin/env python\n",
    "\n",
    "import pandas as pd\n",
    "import numpy as np\n",
    "from sklearn.linear_model import LinearRegression\n",
    "from sklearn.model_selection import cross_val_score\n",
    "from sklearn.model_selection import train_test_split\n",
    "\n",
    "# Load data\n",
    "data = pd.read_csv('../data/train.csv')\n",
    "\n",
    "\n",
    "# Setup data for prediction\n",
    "x1 = data.SalaryNormalized\n",
    "x2 = pd.get_dummies(data.ContractType)\n",
    "\n",
    "# Setup model\n",
    "model = LinearRegression()\n",
    "\n",
    "# Evaluate model\n",
    "scores = cross_val_score(model, x2, x1, cv=2, scoring='neg_mean_absolute_error')\n",
    "print(scores.mean())"
   ]
  },
  {
   "cell_type": "markdown",
   "id": "7a4bb517",
   "metadata": {},
   "source": [
    "\n",
    "**Student Sample 2 (Before)**"
   ]
  },
  {
   "cell_type": "code",
   "execution_count": 119,
   "id": "28fb82c8",
   "metadata": {},
   "outputs": [
    {
     "ename": "ModuleNotFoundError",
     "evalue": "No module named 'sklearn.cross_validation'",
     "output_type": "error",
     "traceback": [
      "\u001b[1;31m---------------------------------------------------------------------------\u001b[0m",
      "\u001b[1;31mModuleNotFoundError\u001b[0m                       Traceback (most recent call last)",
      "\u001b[1;32m<ipython-input-119-cbcd390ffa6b>\u001b[0m in \u001b[0;36m<module>\u001b[1;34m\u001b[0m\n\u001b[0;32m      4\u001b[0m \u001b[1;32mimport\u001b[0m \u001b[0mnumpy\u001b[0m \u001b[1;32mas\u001b[0m \u001b[0mnp\u001b[0m\u001b[1;33m\u001b[0m\u001b[1;33m\u001b[0m\u001b[0m\n\u001b[0;32m      5\u001b[0m \u001b[1;32mfrom\u001b[0m \u001b[0msklearn\u001b[0m\u001b[1;33m.\u001b[0m\u001b[0mlinear_model\u001b[0m \u001b[1;32mimport\u001b[0m \u001b[0mLinearRegression\u001b[0m\u001b[1;33m\u001b[0m\u001b[1;33m\u001b[0m\u001b[0m\n\u001b[1;32m----> 6\u001b[1;33m \u001b[1;32mfrom\u001b[0m \u001b[0msklearn\u001b[0m\u001b[1;33m.\u001b[0m\u001b[0mcross_validation\u001b[0m \u001b[1;32mimport\u001b[0m \u001b[0mcross_val_score\u001b[0m\u001b[1;33m\u001b[0m\u001b[1;33m\u001b[0m\u001b[0m\n\u001b[0m\u001b[0;32m      7\u001b[0m \u001b[1;33m\u001b[0m\u001b[0m\n\u001b[0;32m      8\u001b[0m \u001b[1;31m# Load data\u001b[0m\u001b[1;33m\u001b[0m\u001b[1;33m\u001b[0m\u001b[1;33m\u001b[0m\u001b[0m\n",
      "\u001b[1;31mModuleNotFoundError\u001b[0m: No module named 'sklearn.cross_validation'"
     ]
    }
   ],
   "source": [
    "#!/usr/bin/env python\n",
    "\n",
    "import pandas as pd\n",
    "import numpy as np\n",
    "from sklearn.linear_model import LinearRegression\n",
    "from sklearn.cross_validation import cross_val_score\n",
    "\n",
    "# Load data\n",
    "data = pd.read_csv('../data/train.csv')\n",
    "\n",
    "\n",
    "# Setup data for prediction\n",
    "y = data.SalaryNormalized\n",
    "X = pd.get_dummies(data.ContractType)\n",
    "\n",
    "# Setup model\n",
    "model = LinearRegression()\n",
    "\n",
    "# Evaluate model\n",
    "scores = cross_val_score(model, X, y, cv=5, scoring='mean_absolute_error')\n",
    "print(scores.mean())"
   ]
  },
  {
   "cell_type": "markdown",
   "id": "c2b23c08",
   "metadata": {},
   "source": [
    "Debug: cross_val_score import error "
   ]
  },
  {
   "cell_type": "code",
   "execution_count": null,
   "id": "4f7a349c",
   "metadata": {},
   "outputs": [],
   "source": [
    "from sklearn.model_selection import cross_val_score"
   ]
  },
  {
   "cell_type": "markdown",
   "id": "757a5ec4",
   "metadata": {},
   "source": [
    "Debug: 'mean_absolute_error' is not a valid scoring value"
   ]
  },
  {
   "cell_type": "code",
   "execution_count": null,
   "id": "a900521f",
   "metadata": {},
   "outputs": [],
   "source": [
    "import sklearn\n",
    "sklearn.metrics.SCORERS.keys()"
   ]
  },
  {
   "cell_type": "code",
   "execution_count": null,
   "id": "16abcec0",
   "metadata": {},
   "outputs": [],
   "source": [
    "# Change to 'neg_mean_absolute_error'\n",
    "scores = cross_val_score(model, X, y, cv=5, scoring='neg_mean_absolute_error')"
   ]
  },
  {
   "cell_type": "markdown",
   "id": "0b60dc25",
   "metadata": {},
   "source": [
    "\n",
    "**Student Sample 2 (After)**"
   ]
  },
  {
   "cell_type": "code",
   "execution_count": 121,
   "id": "3206f531",
   "metadata": {},
   "outputs": [
    {
     "name": "stdout",
     "output_type": "stream",
     "text": [
      "-11822.140231295069\n"
     ]
    }
   ],
   "source": [
    "#!/usr/bin/env python\n",
    "\n",
    "import pandas as pd\n",
    "import numpy as np\n",
    "from sklearn.linear_model import LinearRegression\n",
    "from sklearn.model_selection import cross_val_score\n",
    "\n",
    "# Load data\n",
    "data = pd.read_csv('../data/train.csv')\n",
    "\n",
    "\n",
    "# Setup data for prediction\n",
    "y = data.SalaryNormalized\n",
    "X = pd.get_dummies(data.ContractType)\n",
    "\n",
    "# Setup model\n",
    "model = LinearRegression()\n",
    "\n",
    "# Evaluate model\n",
    "scores = cross_val_score(model, X, y, cv=5, scoring='neg_mean_absolute_error')\n",
    "print(scores.mean())"
   ]
  }
 ],
 "metadata": {
  "kernelspec": {
   "display_name": "Python 3",
   "language": "python",
   "name": "python3"
  },
  "language_info": {
   "codemirror_mode": {
    "name": "ipython",
    "version": 3
   },
   "file_extension": ".py",
   "mimetype": "text/x-python",
   "name": "python",
   "nbconvert_exporter": "python",
   "pygments_lexer": "ipython3",
   "version": "3.8.8"
  }
 },
 "nbformat": 4,
 "nbformat_minor": 5
}
